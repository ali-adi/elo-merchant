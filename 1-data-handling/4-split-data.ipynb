{
 "cells": [
  {
   "cell_type": "code",
   "execution_count": 1,
   "id": "8590a660-14cf-44e0-bc42-ca38f8b798ee",
   "metadata": {},
   "outputs": [],
   "source": [
    "import pandas as pd\n",
    "import numpy as np"
   ]
  },
  {
   "cell_type": "code",
   "execution_count": 2,
   "id": "bddd442b-627b-4d11-b745-90b51e71a63f",
   "metadata": {},
   "outputs": [
    {
     "name": "stdout",
     "output_type": "stream",
     "text": [
      "Initial shape of final_df: (19249694, 39)\n"
     ]
    }
   ],
   "source": [
    "# Read the final dataset from Parquet\n",
    "final_df = pd.read_parquet(\"../../datasets/final_dataset.parquet\", engine=\"pyarrow\")\n",
    "print(\"Initial shape of final_df:\", final_df.shape)"
   ]
  },
  {
   "cell_type": "code",
   "execution_count": 4,
   "id": "d04fb5c2-c628-44c4-bda6-8195f862b9d8",
   "metadata": {},
   "outputs": [
    {
     "name": "stdout",
     "output_type": "stream",
     "text": [
      "Splitting with stratification on 'target'.\n",
      "Training set shape: (15399755, 39)\n",
      "Validation set shape: (3849939, 39)\n"
     ]
    }
   ],
   "source": [
    "from sklearn.model_selection import train_test_split\n",
    "\n",
    "# Ensure the target column exists for stratification\n",
    "if 'target' in final_df.columns:\n",
    "    stratify_col = final_df['target']\n",
    "    print(\"Splitting with stratification on 'target'.\")\n",
    "else:\n",
    "    stratify_col = None\n",
    "    print(\"Splitting without stratification (no target column).\")\n",
    "\n",
    "# Perform a 50/50 split with stratification (random_state set for reproducibility)\n",
    "train_df, valid_df = train_test_split(final_df, test_size=0.20, random_state=42, shuffle=True, stratify=stratify_col)\n",
    "\n",
    "print(\"Training set shape:\", train_df.shape)\n",
    "print(\"Validation set shape:\", valid_df.shape)"
   ]
  },
  {
   "cell_type": "code",
   "execution_count": 6,
   "id": "2509547f-4d96-4aa7-81b4-954d349bfa45",
   "metadata": {},
   "outputs": [
    {
     "name": "stdout",
     "output_type": "stream",
     "text": [
      "Train and validation datasets saved successfully.\n"
     ]
    }
   ],
   "source": [
    "# Save the splits as Parquet files\n",
    "train_df.to_parquet(\"../../datasets/split/train.parquet\", engine=\"pyarrow\", index=False)\n",
    "valid_df.to_parquet(\"../../datasets/split/valid.parquet\", engine=\"pyarrow\", index=False)\n",
    "\n",
    "print(\"Train and validation datasets saved successfully.\")"
   ]
  },
  {
   "cell_type": "code",
   "execution_count": null,
   "id": "a373c9fb-32f4-4890-87e4-c2367a6556cc",
   "metadata": {},
   "outputs": [],
   "source": []
  }
 ],
 "metadata": {
  "kernelspec": {
   "display_name": "Python 3 (ipykernel)",
   "language": "python",
   "name": "python3"
  },
  "language_info": {
   "codemirror_mode": {
    "name": "ipython",
    "version": 3
   },
   "file_extension": ".py",
   "mimetype": "text/x-python",
   "name": "python",
   "nbconvert_exporter": "python",
   "pygments_lexer": "ipython3",
   "version": "3.13.2"
  }
 },
 "nbformat": 4,
 "nbformat_minor": 5
}
